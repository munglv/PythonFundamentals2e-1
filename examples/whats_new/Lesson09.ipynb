{
 "cells": [
  {
   "cell_type": "markdown",
   "id": "2784e0a1-bb3c-4a25-b3fe-3ffd32a2febb",
   "metadata": {
    "editable": true,
    "slideshow": {
     "slide_type": ""
    },
    "tags": []
   },
   "source": [
    "&copy; 2024 by Pearson Education, Inc. All Rights Reserved. The content in this notebook will be incorporated as new features into the Second Editions our professional book [**Python for Programmers**](https://amzn.to/2VvdnxE) and our textbook [**Intro Python for Computer Science and Data Science**](https://amzn.to/2YU0QTJ)."
   ]
  },
  {
   "cell_type": "code",
   "execution_count": null,
   "id": "866637ef-40f2-4979-8d0f-82ad21a3f9ff",
   "metadata": {
    "editable": true,
    "jupyter": {
     "source_hidden": true
    },
    "slideshow": {
     "slide_type": ""
    },
    "tags": []
   },
   "outputs": [],
   "source": [
    "%%html\n",
    "<!-- CSS settings for styling notbook's headings and horizontal lines -->\n",
    "<style>\n",
    "    h1 {color:#03A}\n",
    "    h2 {color:purple}\n",
    "    h3 {color:#0099ff}\n",
    "    hr {    \n",
    "        border: 0;\n",
    "        height: 3px;\n",
    "        background: #333;\n",
    "        background-image: linear-gradient(to right, #ccc, black, #ccc);\n",
    "    }\n",
    "</style>"
   ]
  },
  {
   "attachments": {},
   "cell_type": "markdown",
   "id": "b09119f9-6e05-40c3-bad1-f6fbb00f3f75",
   "metadata": {
    "slideshow": {
     "slide_type": "slide"
    }
   },
   "source": [
    "# What's New: Lesson 9, Files and Exceptions\n",
    "<div style=\"float: left; padding-right:10px;text-align:center\"><a href=\"https://learning.oreilly.com/videos/python-fundamentals/9780135917411\"><img alt=\"Python Fundamentals LiveLessons cover\" src=\"../images/PythonFundamentalsLiveLessons.jpg\" width=\"200\" border=\"1\"/></a></br>50+ hours of in-depth videos</div>\n",
    "<div style=\"float: left; padding-right:10px;text-align:center\"><a href=\"https://learning.oreilly.com/library/view/intro-to-python/9780135404799/\"><img alt=\"Intro to Python for Computer Science and Data Science: Learning to Program with AI, Big Data and the Cloud\" src=\"../images/IntroToPythonCover.png\" width=\"195\" border=\"1\"></a><br/><a href=\"https://amzn.to/2LiDCmt\">Buy on Amazon</a></div></div>\n",
    "<div style=\"float: left; padding-right:10px;text-align:center\"><a href=\"https://learning.oreilly.com/library/view/python-for-programmers/9780135231364\"><img alt=\"Python for Programmers cover\" src=\"../images/PyFPCover.png\" width=\"184\" border=\"1\"/></a><br/><a href=\"https://amzn.to/2VvdnxE\">Buy on Amazon</a></div>"
   ]
  },
  {
   "cell_type": "markdown",
   "id": "f779cbea-5d65-49da-bfd5-04132d468c91",
   "metadata": {},
   "source": [
    "---"
   ]
  },
  {
   "cell_type": "markdown",
   "id": "081837cc-c028-485a-b40a-32979c7b0ba4",
   "metadata": {},
   "source": [
    "# In This Segment\n",
    "## Python 3.11\n",
    "* Adding Notes to Exceptions\n",
    "* Exception Groups and `except*`"
   ]
  },
  {
   "cell_type": "markdown",
   "id": "79b7d799-bba3-4d7c-821d-f38c022179f3",
   "metadata": {},
   "source": [
    "---"
   ]
  },
  {
   "cell_type": "markdown",
   "id": "2c4844e0-a289-40a7-91b7-e1e9860ff095",
   "metadata": {},
   "source": [
    "# Adding Notes to Exceptions\n",
    "> **Python 3.11, Lesson 9** \n",
    "> PEP 678, Enriching Exceptions with Notes\n",
    "> https://peps.python.org/pep-0678/.\n",
    "\n",
    "* Can call `add_note()` on an exception object to provide additional information\n",
    "* Notes appear after the exception’s error message in tracebacks"
   ]
  },
  {
   "cell_type": "code",
   "execution_count": null,
   "id": "47c5216d-4831-4fbb-b5f9-8fcf15430173",
   "metadata": {},
   "outputs": [],
   "source": [
    "try:\n",
    "    print(10 / 0)\n",
    "except ZeroDivisionError as e:\n",
    "    e.add_note('Denominator must be non-zero.')\n",
    "    raise # re-raise the current exception"
   ]
  },
  {
   "cell_type": "markdown",
   "id": "1ae8c0bf-474e-40de-88e6-ff3311259232",
   "metadata": {},
   "source": [
    "---"
   ]
  },
  {
   "cell_type": "markdown",
   "id": "f9e2083e-fa76-4b32-969c-5ed5a77cd025",
   "metadata": {},
   "source": [
    "# Exception Groups and `except*`\n",
    "> **Python 3.11**, New Section  \n",
    "> PEP 654, Exception Groups and `except*`  \n",
    "https://peps.python.org/pep-0654/\n",
    "\n",
    "* Enables programs to raise and handle multiple unrelated exceptions simultaneously\n",
    "* Primarily for concurrent and parallel programming\n",
    "    * Multiple tasks could raise exceptions that should be caught at the same time"
   ]
  },
  {
   "cell_type": "markdown",
   "id": "007c6300-fb72-4ff4-827e-a1a9cc1e42d4",
   "metadata": {},
   "source": [
    "## `ExceptionGroup`\n",
    "* Contains an error message and a list of exception objects\n",
    "* Can catch an `ExceptionGroup` using an `except` handler with an `as` clause, then use the variable name to access `ExceptionGroup`’s `exceptions` property and iterate through the exceptions\n",
    "* Also can use multiple `except*` handlers to filter the `ExceptionGroup`’s exceptions, looking for those that match a specified type\n",
    "* `ExceptionGroupDemo.py` demonstrates `ExceptionGroup` and `except*`"
   ]
  },
  {
   "cell_type": "code",
   "execution_count": null,
   "id": "27a0a2b0-9397-49a0-b3a8-5cf88d8671ac",
   "metadata": {},
   "outputs": [],
   "source": [
    "run ExceptionGroupDemo.py"
   ]
  },
  {
   "cell_type": "markdown",
   "id": "6a2aed35-572f-40be-b7dc-249e380970a5",
   "metadata": {
    "jp-MarkdownHeadingCollapsed": true
   },
   "source": [
    "## Raising an ExceptionGroup\n",
    "* Function `parallel_task_simulator` (lines 5–26) executes three `try` statements\n",
    "* Each purposely raises an exception, then\n",
    "    * catches it,\n",
    "    * displays its string representation and\n",
    "    * adds it to list `exceptions`\n",
    "* Function raises an `ExceptionGroup` (line 26) with custom error message and list of previously caught exceptions"
   ]
  },
  {
   "cell_type": "markdown",
   "id": "ae4ce427-8838-467c-b077-338afd48aa23",
   "metadata": {},
   "source": [
    "## Main Part of Script—Catching and Processing an `ExceptionGroup`\n",
    "`try` statement in lines 31–39 \n",
    "* Line 32 calls `parallel_task_simulator`, which raises an `ExceptionGroup`\n",
    "* Line 33 catches the raised `ExceptionGroup` \n",
    "* Line 34 prints the `ExceptionGroup`’s string representation\n",
    "* Lines 37–39 iterate through the `ExceptionGroup`’s exceptions list and\n",
    "    * displays each exception’s type name (obtained by the expression `type(e).__name__`) and\n",
    "    * string representation"
   ]
  },
  {
   "attachments": {},
   "cell_type": "markdown",
   "id": "782b0179-5080-4a84-9c9e-a8e7cf3627e4",
   "metadata": {},
   "source": [
    "## Main Part of Script—Catching and Filtering an `ExceptionGroup` with `except*`\n",
    "`try` statement in lines 43–56 \n",
    "* Line 45 catches `ExceptionGroup` object as `ex1`, but exposes only `ValueErrors` in its exceptions list \n",
    "* Line 51, catches `ExceptionGroup` object as `ex2`, but exposes only `ZeroDivisionError` in its exceptions list\n",
    "* Python will re-raise any uncaught exceptions in `ExceptionGroup`’s exceptions list\n"
   ]
  },
  {
   "cell_type": "markdown",
   "id": "e2eaa005-81dc-4a13-af86-c74fefeb897f",
   "metadata": {},
   "source": [
    "---"
   ]
  },
  {
   "cell_type": "markdown",
   "id": "75455330-15ba-4520-9ecf-bac9805d71f7",
   "metadata": {
    "editable": true,
    "slideshow": {
     "slide_type": ""
    },
    "tags": []
   },
   "source": [
    "&copy; 2024 by Pearson Education, Inc. All Rights Reserved. The content in this notebook will be incorporated as new features into the Second Editions our professional book [**Python for Programmers**](https://amzn.to/2VvdnxE) and our textbook [**Intro Python for Computer Science and Data Science**](https://amzn.to/2YU0QTJ)."
   ]
  }
 ],
 "metadata": {
  "kernelspec": {
   "display_name": "Python 3 (ipykernel)",
   "language": "python",
   "name": "python3"
  },
  "language_info": {
   "codemirror_mode": {
    "name": "ipython",
    "version": 3
   },
   "file_extension": ".py",
   "mimetype": "text/x-python",
   "name": "python",
   "nbconvert_exporter": "python",
   "pygments_lexer": "ipython3",
   "version": "3.12.2"
  }
 },
 "nbformat": 4,
 "nbformat_minor": 5
}
