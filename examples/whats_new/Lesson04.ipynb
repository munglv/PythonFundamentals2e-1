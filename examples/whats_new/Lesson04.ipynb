{
 "cells": [
  {
   "cell_type": "markdown",
   "id": "1a8e78fc-8ccd-42d6-862e-8681c509d316",
   "metadata": {
    "editable": true,
    "slideshow": {
     "slide_type": ""
    },
    "tags": []
   },
   "source": [
    "&copy; 2024 by Pearson Education, Inc. All Rights Reserved. The content in this notebook will be incorporated as new features into the Second Editions our professional book [**Python for Programmers**](https://amzn.to/2VvdnxE) and our textbook [**Intro Python for Computer Science and Data Science**](https://amzn.to/2YU0QTJ)."
   ]
  },
  {
   "cell_type": "code",
   "execution_count": null,
   "id": "866637ef-40f2-4979-8d0f-82ad21a3f9ff",
   "metadata": {
    "editable": true,
    "jupyter": {
     "source_hidden": true
    },
    "slideshow": {
     "slide_type": ""
    },
    "tags": []
   },
   "outputs": [],
   "source": [
    "%%html\n",
    "<!-- CSS settings for styling notbook's headings and horizontal lines -->\n",
    "<style>\n",
    "    h1 {color:#03A}\n",
    "    h2 {color:purple}\n",
    "    h3 {color:#0099ff}\n",
    "    hr {    \n",
    "        border: 0;\n",
    "        height: 3px;\n",
    "        background: #333;\n",
    "        background-image: linear-gradient(to right, #ccc, black, #ccc);\n",
    "    }\n",
    "</style>"
   ]
  },
  {
   "attachments": {},
   "cell_type": "markdown",
   "id": "b3798992-593e-4ee8-a3b5-d68bf70f04a6",
   "metadata": {
    "slideshow": {
     "slide_type": "slide"
    }
   },
   "source": [
    "# What's New: Lesson 4, Functions\n",
    "<div style=\"float: left; padding-right:10px;text-align:center\"><a href=\"https://learning.oreilly.com/videos/python-fundamentals/9780135917411\"><img alt=\"Python Fundamentals LiveLessons cover\" src=\"../images/PythonFundamentalsLiveLessons.jpg\" width=\"200\" border=\"1\"/></a></br>50+ hours of in-depth videos</div>\n",
    "<div style=\"float: left; padding-right:10px;text-align:center\"><a href=\"https://learning.oreilly.com/library/view/intro-to-python/9780135404799/\"><img alt=\"Intro to Python for Computer Science and Data Science: Learning to Program with AI, Big Data and the Cloud\" src=\"../images/IntroToPythonCover.png\" width=\"195\" border=\"1\"></a><br/><a href=\"https://amzn.to/2LiDCmt\">Buy on Amazon</a></div></div>\n",
    "<div style=\"float: left; padding-right:10px;text-align:center\"><a href=\"https://learning.oreilly.com/library/view/python-for-programmers/9780135231364\"><img alt=\"Python for Programmers cover\" src=\"../images/PyFPCover.png\" width=\"184\" border=\"1\"/></a><br/><a href=\"https://amzn.to/2VvdnxE\">Buy on Amazon</a></div>"
   ]
  },
  {
   "cell_type": "markdown",
   "id": "275ee08e-8f90-428b-81a9-ccac0adf2f46",
   "metadata": {},
   "source": [
    "---"
   ]
  },
  {
   "cell_type": "markdown",
   "id": "cdfdf87e-5680-444a-a083-5972292ab689",
   "metadata": {},
   "source": [
    "# In This Segment\n",
    "## Python 3.10\n",
    "* Pattern matching with `match`...`case`\n",
    "\n",
    "## Python 3.8\n",
    "* Positional-only parameters\n",
    "\n",
    "## Python 3.4\n",
    "* `Enum`s for creating named constants"
   ]
  },
  {
   "cell_type": "markdown",
   "id": "0b217d48-d6a2-46ee-9e2e-3874af6d2d84",
   "metadata": {},
   "source": [
    "---"
   ]
  },
  {
   "cell_type": "markdown",
   "id": "ed37136a-2bea-459a-8956-d80a60a3ccb8",
   "metadata": {},
   "source": [
    "# Pattern Matching with `match`...`case`\n",
    "> **Python 3.10, Lesson 4+**  \n",
    "> * PEP 634—Structural Pattern Matching: Specification  \n",
    "https://peps.python.org/pep-0634/  \n",
    "> * PEP 635—Structural Pattern Matching: Motivation and Rationale  \n",
    "https://peps.python.org/pep-0635/  \n",
    "> * PEP 636—Structural Pattern Matching: Tutorial  \n",
    "https://peps.python.org/pep-0636/\n",
    "\n",
    "* Can match **patterns**, such as number of elements in a data structure\n",
    "* Can specify **guard conditions** that help determine whether there is a match\n",
    "* Function `calculate` receives an arbitrary list of arguments representing various arithmetic operations and their numeric operands\n",
    "    * `*args` gathers the arguments’ values into a tuple\n",
    "    * Based on the number of elements in `args`—and sometimes an item's value—`match`…`case` performs the appropriate calculation and returns its result\n",
    "* e.g., `calculate(10, '+', 7)`"
   ]
  },
  {
   "cell_type": "code",
   "execution_count": null,
   "id": "04b665c3-fbc9-4358-ab8f-2fe72b09d4e7",
   "metadata": {
    "jp-MarkdownHeadingCollapsed": true
   },
   "outputs": [],
   "source": [
    "def calculate(*args):\n",
    "    match args: # list of arguments\n",
    "        case [value]: # no operation specified; just return value\n",
    "            return value\n",
    "        case [op, value] if op in ('+', '-'): # unary op\n",
    "            return value if op == '+' else -value\n",
    "        case [value1, '+', value2]: # addition\n",
    "            return value1 + value2\n",
    "        case [value1, '-', value2]: # subtraction\n",
    "            return value1 - value2\n",
    "        case [value1, '*', value2]: # multiplication\n",
    "            return value1 * value2\n",
    "        case [value1, '/', value2]: # division\n",
    "            return value1 / value2\n",
    "        case [value1, '%', value2]: # remainder\n",
    "            return value1 % value2\n",
    "        case [value1, '**', value2]: # exponentiation\n",
    "            return value1 ** value2\n",
    "        case _: # \"default\" case that matches any pattern\n",
    "            return None"
   ]
  },
  {
   "cell_type": "markdown",
   "id": "d1de3217-9e38-4a8f-9733-7c5df98b6646",
   "metadata": {},
   "source": [
    "## Matching a Pattern of One Numeric Value\n",
    "* Next snippet matches the case in which `args` contains one value (`7`)\n",
    "> ```case [value]: # no operation specified; just return value```\n",
    " "
   ]
  },
  {
   "cell_type": "code",
   "execution_count": null,
   "id": "e006efaa-803b-4121-829e-041f84b2c9bf",
   "metadata": {},
   "outputs": [],
   "source": [
    "calculate(7) # When no operation specified, returns argument"
   ]
  },
  {
   "cell_type": "markdown",
   "id": "fc8b8835-20a9-49cc-9cd9-ee8579939ac2",
   "metadata": {
    "jp-MarkdownHeadingCollapsed": true
   },
   "source": [
    "* Case pattern uses list syntax (`[]`), but `match`…`case` **can match patterns in collections that have similar structures**\n",
    "    * Thus, the name “structural pattern matching”\n",
    "* Here, the `args` tuple and the case’s list are each sequences containing one element\n",
    "* Python assigns `7` to the variable `value`\n",
    "* Did not specify an operation in the function call, so this `case` simply returns the value"
   ]
  },
  {
   "cell_type": "markdown",
   "id": "cb1380c9-cb7c-4d62-b870-b2a19ef83d5a",
   "metadata": {},
   "source": [
    "## Matching a Pattern of an Operator and a Numeric Value\n",
    "* Next snippet matches a `case` in which the list args contains two elements\n",
    "> ```case [op, value] if op == '+' or op == '-': # unary op```"
   ]
  },
  {
   "cell_type": "code",
   "execution_count": null,
   "id": "84e9fd44-f55d-439e-9db0-1052e278425d",
   "metadata": {},
   "outputs": [],
   "source": [
    "calculate('-', 5) # unary minus"
   ]
  },
  {
   "cell_type": "markdown",
   "id": "836f0c9e-9440-4a4e-9a39-a17fc0b1bed7",
   "metadata": {},
   "source": [
    "* Match is **guarded** by an `if` clause\n",
    "* First element—represented by `op`—must be either `'+'` or `'-'`\n",
    "    * Representing unary plus and minus operations\n",
    "* Python assigns `'-'` to `op` and `5` to `value`\n",
    "* `case` returns `-value` (that is, `-5`)"
   ]
  },
  {
   "cell_type": "markdown",
   "id": "5d685fe8-26de-4925-ac89-c70fe269fc9c",
   "metadata": {},
   "source": [
    "## Matching a Pattern of an Operator and a Numeric Value\n",
    "* Next several snippets handle binary arithmetic operations—addition, subtraction,\n",
    "multiplication, division and exponentiation"
   ]
  },
  {
   "cell_type": "code",
   "execution_count": null,
   "id": "869e8890-93dc-47a6-8598-028f597a5cc6",
   "metadata": {},
   "outputs": [],
   "source": [
    "calculate(4, '+', 3) # 4 + 3"
   ]
  },
  {
   "cell_type": "code",
   "execution_count": null,
   "id": "1dc36604-7a5a-466d-9f36-8b0019f28fa3",
   "metadata": {},
   "outputs": [],
   "source": [
    "calculate(7, '-', 2) # 7 - 2"
   ]
  },
  {
   "cell_type": "code",
   "execution_count": null,
   "id": "badfeb19-a75b-446e-abe2-9ce40f955c2d",
   "metadata": {},
   "outputs": [],
   "source": [
    "calculate(3, '*', 4) # 3 * 4"
   ]
  },
  {
   "cell_type": "code",
   "execution_count": null,
   "id": "99fa67a8-fea1-4f50-bc5d-bd14f1b3b3cc",
   "metadata": {},
   "outputs": [],
   "source": [
    "calculate(10, '/', 2) # 10 / 2"
   ]
  },
  {
   "cell_type": "code",
   "execution_count": null,
   "id": "b4988911-2105-435d-828b-494682c6ebb5",
   "metadata": {},
   "outputs": [],
   "source": [
    "calculate(7, '%', 3) # 7 % 3"
   ]
  },
  {
   "cell_type": "code",
   "execution_count": null,
   "id": "3b9126f2-b37d-4c41-aeed-2f75e73fa95c",
   "metadata": {},
   "outputs": [],
   "source": [
    "calculate(10, '**', 2) # 10 ** 2"
   ]
  },
  {
   "cell_type": "markdown",
   "id": "94a5361c-0583-4ad9-941b-4d35fb49a72b",
   "metadata": {
    "jp-MarkdownHeadingCollapsed": true
   },
   "source": [
    "* Each corresponding case matches a three-element `args`\n",
    "* Middle element must explicitly match a literal string"
   ]
  },
  {
   "cell_type": "markdown",
   "id": "2c6221d1-7ea2-4430-b1e8-06436a7b1199",
   "metadata": {},
   "source": [
    "## Matching the Irrefutable `case` \n",
    "* Snippet that does not represent a valid operation\n",
    "* `calculate` returns `None` "
   ]
  },
  {
   "cell_type": "code",
   "execution_count": null,
   "id": "66af245c-129a-4b49-9166-4213bb9f6334",
   "metadata": {},
   "outputs": [],
   "source": [
    "if calculate(10, '+') == None: # error: missing right operand \n",
    "    print('calculate did not return a value')"
   ]
  },
  {
   "cell_type": "markdown",
   "id": "2ecee2b2-0ec8-4e38-9792-20378bde0afb",
   "metadata": {},
   "source": [
    "# Positional-Only Parameters \n",
    "> **Python 3.8**, Section 4.10  \n",
    "> PEP 570 – Python Positional-Only Parameters: https://peps.python.org/pep-0570/\n",
    "\n",
    "* Consider the following `average` function"
   ]
  },
  {
   "cell_type": "code",
   "execution_count": null,
   "id": "6f065e16-54d0-4b2f-bdda-21c2fe96e45b",
   "metadata": {},
   "outputs": [],
   "source": [
    "def average(number1, number2, number3):\n",
    "    return (number1 + number2 + number3) / 3;"
   ]
  },
  {
   "cell_type": "markdown",
   "id": "f5eb9003-ced1-4536-9cb9-9f4fa804160b",
   "metadata": {},
   "source": [
    "* Can call this with positional arguments that are assigned left-to-right to the corresponding parameters"
   ]
  },
  {
   "cell_type": "code",
   "execution_count": null,
   "id": "d6971409-e1ca-45e5-9410-4cc6bd07b834",
   "metadata": {},
   "outputs": [],
   "source": [
    "average(7, 20, 15) # positional arguments"
   ]
  },
  {
   "cell_type": "markdown",
   "id": "d86fd2f9-2839-4dae-bcd2-32f5cea679ca",
   "metadata": {},
   "source": [
    "* Also can call with keyword arguments where each argument is assigned to the specifically named parameter—order of the arguments does not matter"
   ]
  },
  {
   "cell_type": "code",
   "execution_count": null,
   "id": "19c75d49-be66-45d0-b41e-86bf9a482261",
   "metadata": {},
   "outputs": [],
   "source": [
    "average(number3=15, number1=7, number2=20) # keyword arguments"
   ]
  },
  {
   "attachments": {},
   "cell_type": "markdown",
   "id": "e018395f-13cb-4ca5-a307-177c31bf034e",
   "metadata": {},
   "source": [
    "* Using keyword arguments here actually makes the function call less clear\n",
    "    * Listed the parameter names out of order from function’s definition \n",
    "* To prevent calls like this, can specify **positional-only parameters**\n",
    "* Parameters before a `/` in a parameter list are positional-only and do not allow keyword arguments\n",
    "* Can specify both positional-only and keyword arguments by listing the parameters that accept keyword arguments after the `/` in the parameter list."
   ]
  },
  {
   "cell_type": "code",
   "execution_count": null,
   "id": "24a56b29-5007-4bc8-bd22-9e27f34b45ad",
   "metadata": {},
   "outputs": [],
   "source": [
    "def average(number1, number2, number3, /):\n",
    "    return (number1 + number2 + number3) / 3;"
   ]
  },
  {
   "cell_type": "code",
   "execution_count": null,
   "id": "b345bc30-5fbb-4988-ae71-b57769e199f1",
   "metadata": {},
   "outputs": [],
   "source": [
    "average(number3=15, number1=7, number2=20) # keyword arguments"
   ]
  },
  {
   "cell_type": "markdown",
   "id": "7e4310fc-979e-4c03-853a-abf11822dc47",
   "metadata": {},
   "source": [
    "---"
   ]
  },
  {
   "cell_type": "markdown",
   "id": "a2019b6b-d900-4a79-af1d-bb516eb28213",
   "metadata": {},
   "source": [
    "# `Enum`s for Creating Named Constants \n",
    "> **Python 3.4**, Section 4.5, Fig. 4.2  \n",
    "> `enum`—Support for enumerations  \n",
    "> * https://docs.python.org/3/library/enum.html\n",
    "> \n",
    "> Note: This is an item we should have covered in 1/e.\n",
    "\n",
    "## Defining a Simple `Enum` with Underlying Integer Values\n",
    "* `Enum` can be used to define sets of named constants\n",
    "* Following code uses `Enum` to define the type `GameStatus` with constants `WON`, `LOST` and `CONTINUE`: "
   ]
  },
  {
   "cell_type": "code",
   "execution_count": null,
   "id": "231c7939-a313-4d75-8e1b-81742eafd871",
   "metadata": {},
   "outputs": [],
   "source": [
    "from enum import Enum"
   ]
  },
  {
   "cell_type": "code",
   "execution_count": null,
   "id": "d8801b82-908f-4337-a713-995f43da6c03",
   "metadata": {},
   "outputs": [],
   "source": [
    "GameStatus = Enum('GameStatus', ['WON', 'LOST', 'CONTINUE'])"
   ]
  },
  {
   "cell_type": "markdown",
   "id": "9506a420-c6da-4752-989f-928ce6c0f1ab",
   "metadata": {},
   "source": [
    "* Access in code as `GameStatus.WON`, `GameStatus.LOST` and `GameStatus.CONTINUE`\n",
    "* By default, constants have underlying integer values starting at 1 and incrementing by 1"
   ]
  },
  {
   "cell_type": "code",
   "execution_count": null,
   "id": "a1b9aa29-0276-41c6-a440-70375f26af75",
   "metadata": {},
   "outputs": [],
   "source": [
    "GameStatus.WON"
   ]
  },
  {
   "cell_type": "code",
   "execution_count": null,
   "id": "729f6973-05d7-4919-9577-9164949e6a8d",
   "metadata": {},
   "outputs": [],
   "source": [
    "GameStatus.LOST"
   ]
  },
  {
   "cell_type": "code",
   "execution_count": null,
   "id": "8812e75d-9988-4db5-8403-1e09279e24c0",
   "metadata": {},
   "outputs": [],
   "source": [
    "GameStatus.CONTINUE"
   ]
  },
  {
   "cell_type": "markdown",
   "id": "b71315bc-8f9c-44dd-a5ad-8666fc8e8e1a",
   "metadata": {},
   "source": [
    "## Defining an `Enum` with Specific Integer Values\n",
    "* Can supply\n",
    "    * Sequence of tuples representing names and values of each constant or\n",
    "    * Dictionary of key–value pairs from which the keys will be used as the constant names and the key’s corresponding values are the constants’ values\n",
    "* `RollValues` enumeration defines named constants representing specific sums of rolling two dice in our Craps dice-game simulation:"
   ]
  },
  {
   "cell_type": "code",
   "execution_count": null,
   "id": "e97d9405-4447-48a8-8499-917a384d60fd",
   "metadata": {},
   "outputs": [],
   "source": [
    "RollValues = Enum('RollValues', [('SNAKE_EYES', 2), ('TREY', 3),\n",
    "    ('SEVEN', 7), ('YO_LEVEN', 11), ('BOX_CARS', 12)])"
   ]
  },
  {
   "cell_type": "code",
   "execution_count": null,
   "id": "5b072938-a83e-4e2c-9e22-2ad60d579333",
   "metadata": {},
   "outputs": [],
   "source": [
    "RollValues.SNAKE_EYES"
   ]
  },
  {
   "cell_type": "code",
   "execution_count": null,
   "id": "333b505b-73fe-4f54-85e5-dd0683bbf463",
   "metadata": {},
   "outputs": [],
   "source": [
    "RollValues.BOX_CARS"
   ]
  },
  {
   "cell_type": "markdown",
   "id": "7aca2217-2972-4825-a4fe-89cb82ec8c18",
   "metadata": {},
   "source": [
    "## Getting an `Enum` Constant’s Name and Value \n",
    "Each `Enum` constant has `name` and `value` attributes"
   ]
  },
  {
   "cell_type": "code",
   "execution_count": null,
   "id": "51a8cd6b-62f0-4b10-9141-0ad3d5c7015b",
   "metadata": {},
   "outputs": [],
   "source": [
    "RollValues.BOX_CARS.name"
   ]
  },
  {
   "cell_type": "code",
   "execution_count": null,
   "id": "cb2f4266-d30a-4e0c-a12b-794917b41651",
   "metadata": {},
   "outputs": [],
   "source": [
    "RollValues.BOX_CARS.value"
   ]
  },
  {
   "cell_type": "markdown",
   "id": "8e793049-a756-41a8-8fc2-0eeed11643f2",
   "metadata": {},
   "source": [
    "---"
   ]
  },
  {
   "cell_type": "markdown",
   "id": "27eca787-2b48-4388-a0de-a2c594dbb2fd",
   "metadata": {
    "editable": true,
    "slideshow": {
     "slide_type": ""
    },
    "tags": []
   },
   "source": [
    "&copy; 2024 by Pearson Education, Inc. All Rights Reserved. The content in this notebook will be incorporated as new features into the Second Editions our professional book [**Python for Programmers**](https://amzn.to/2VvdnxE) and our textbook [**Intro Python for Computer Science and Data Science**](https://amzn.to/2YU0QTJ)."
   ]
  }
 ],
 "metadata": {
  "kernelspec": {
   "display_name": "Python 3 (ipykernel)",
   "language": "python",
   "name": "python3"
  },
  "language_info": {
   "codemirror_mode": {
    "name": "ipython",
    "version": 3
   },
   "file_extension": ".py",
   "mimetype": "text/x-python",
   "name": "python",
   "nbconvert_exporter": "python",
   "pygments_lexer": "ipython3",
   "version": "3.12.2"
  }
 },
 "nbformat": 4,
 "nbformat_minor": 5
}
