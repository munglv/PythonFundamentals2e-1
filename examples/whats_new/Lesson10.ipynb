{
 "cells": [
  {
   "cell_type": "markdown",
   "id": "57cc773f-dbb2-4b27-aa7a-8cb4c26e80e2",
   "metadata": {
    "editable": true,
    "slideshow": {
     "slide_type": ""
    },
    "tags": []
   },
   "source": [
    "&copy; 2024 by Pearson Education, Inc. All Rights Reserved. The content in this notebook will be incorporated as new features into the Second Editions our professional book [**Python for Programmers**](https://amzn.to/2VvdnxE) and our textbook [**Intro Python for Computer Science and Data Science**](https://amzn.to/2YU0QTJ)."
   ]
  },
  {
   "cell_type": "code",
   "execution_count": null,
   "id": "866637ef-40f2-4979-8d0f-82ad21a3f9ff",
   "metadata": {
    "editable": true,
    "jupyter": {
     "source_hidden": true
    },
    "slideshow": {
     "slide_type": ""
    },
    "tags": []
   },
   "outputs": [],
   "source": [
    "%%html\n",
    "<!-- CSS settings for styling notbook's headings and horizontal lines -->\n",
    "<style>\n",
    "    h1 {color:#03A}\n",
    "    h2 {color:purple}\n",
    "    h3 {color:#0099ff}\n",
    "    hr {    \n",
    "        border: 0;\n",
    "        height: 3px;\n",
    "        background: #333;\n",
    "        background-image: linear-gradient(to right, #ccc, black, #ccc);\n",
    "    }\n",
    "</style>"
   ]
  },
  {
   "attachments": {},
   "cell_type": "markdown",
   "id": "5f4f630b-e5af-4238-9d42-febbc93e3d1b",
   "metadata": {
    "slideshow": {
     "slide_type": "slide"
    }
   },
   "source": [
    "# What's New: Lesson 10, Object-Oriented Programming\n",
    "<div style=\"float: left; padding-right:10px;text-align:center\"><a href=\"https://learning.oreilly.com/videos/python-fundamentals/9780135917411\"><img alt=\"Python Fundamentals LiveLessons cover\" src=\"../images/PythonFundamentalsLiveLessons.jpg\" width=\"200\" border=\"1\"/></a></br>50+ hours of in-depth videos</div>\n",
    "<div style=\"float: left; padding-right:10px;text-align:center\"><a href=\"https://learning.oreilly.com/library/view/intro-to-python/9780135404799/\"><img alt=\"Intro to Python for Computer Science and Data Science: Learning to Program with AI, Big Data and the Cloud\" src=\"../images/IntroToPythonCover.png\" width=\"195\" border=\"1\"></a><br/><a href=\"https://amzn.to/2LiDCmt\">Buy on Amazon</a></div></div>\n",
    "<div style=\"float: left; padding-right:10px;text-align:center\"><a href=\"https://learning.oreilly.com/library/view/python-for-programmers/9780135231364\"><img alt=\"Python for Programmers cover\" src=\"../images/PyFPCover.png\" width=\"184\" border=\"1\"/></a><br/><a href=\"https://amzn.to/2VvdnxE\">Buy on Amazon</a></div>"
   ]
  },
  {
   "cell_type": "markdown",
   "id": "29f32d35-0e03-4040-b01b-ef74032b18b0",
   "metadata": {},
   "source": [
    "# In This Segment\n",
    "## Python 3.12\n",
    "* Type Annotations for `**kwargs`\n",
    "* `@override` Decorator for Overridden Methods in Subclasses\n",
    "## Python 3.10\n",
    "* Type Union Operator for Type Hints\n",
    "## Python 3.9\n",
    "* Built-in Collection Types in Type Hints"
   ]
  },
  {
   "cell_type": "markdown",
   "id": "51c20d8c-a991-400a-9c7e-7f8c83efd487",
   "metadata": {},
   "source": [
    "---"
   ]
  },
  {
   "cell_type": "markdown",
   "id": "d963483f-2954-460e-860d-56262160bc41",
   "metadata": {},
   "source": [
    "# Type Annotations for `**kwargs`\n",
    "> **Python 3.12, After Lesson 10's Data Classes example**  \n",
    "> PEP 692, Using `TypedDict` for more precise `**kwargs` typing\r",
    "> https://peps.python.org/pep-0692/\n",
    "* A function's **`**kwargs`** parameter can receive as arguments\n",
    "    * a dictionary preceded by **`**` unpacking operator** to pass a dictionary’s key–value pairs as keyword arguments\n",
    "    * an arbitrary number of keyword arguments\n",
    "* In Python 3.12, a **`TypedDict`** subclass can document keyword arguments' names and corresponding values' types \n",
    "    * Each keyword argument’s name is an attribute \n",
    "    * Corresponding value’s type is a type hint"
   ]
  },
  {
   "cell_type": "markdown",
   "id": "3ae4d06f-f133-4ec8-b1b6-85425881f7a8",
   "metadata": {},
   "source": [
    "## `TypedDict` Subclass `StudentData`\n",
    "* `StudentData` class indicates that a dictionary representing student data should have\n",
    "* `'name'` key with a string (`str`) as its corresponding value\n",
    "* `'grades'` key with a list of `int`s (`list[int]`) as its corresponding value  "
   ]
  },
  {
   "cell_type": "code",
   "execution_count": null,
   "id": "2a8848ce-3e08-4592-8108-bc5bfd2328b5",
   "metadata": {},
   "outputs": [],
   "source": [
    "from typing import TypedDict"
   ]
  },
  {
   "cell_type": "code",
   "execution_count": null,
   "id": "4159076a-8fc8-4588-8e1a-82a45c0cb536",
   "metadata": {},
   "outputs": [],
   "source": [
    "class StudentData(TypedDict):\n",
    "    name: str # name is a string\n",
    "    grades: list[int] # grades is a list of ints"
   ]
  },
  {
   "cell_type": "markdown",
   "id": "b39dbdbb-6fba-45fe-b105-41edb77688b7",
   "metadata": {},
   "source": [
    "## `calculate_gpa` Function with Keyword Arguments Specified By Class `StudentData`\n",
    "* `calculate_gpa` function uses `StudentData` as a type hint \n",
    "* `**kwargs` should keyword arguments with the names and types specified by `StudentData`\n",
    "    * otherwise, function might not work correctly\n",
    "* Return type's hint indicates function returns a tuple containing a string (`str`) and a `float`\n",
    "* These type hints serve as documentation to programmers calling your function\n",
    "    * Ignored at execution time "
   ]
  },
  {
   "cell_type": "code",
   "execution_count": null,
   "id": "29c080c4-25a1-4f6b-921b-862d64deb734",
   "metadata": {},
   "outputs": [],
   "source": [
    "def calculate_gpa(**kwargs: StudentData) -> (str, float):\n",
    "    name = kwargs.get('name', 'Name not specified')\n",
    "    grades = kwargs.get('grades', [])\n",
    "    average = sum(grades) / len(grades) if grades else 0\n",
    "    return (name, average)"
   ]
  },
  {
   "cell_type": "markdown",
   "id": "aa68179b-98e2-44b9-9144-4f2585c75fb4",
   "metadata": {},
   "source": [
    "## Calling `calculate_gpa` with a Dictionary"
   ]
  },
  {
   "cell_type": "code",
   "execution_count": null,
   "id": "91f0f693-51d9-4672-98e0-81fab63f98c0",
   "metadata": {},
   "outputs": [],
   "source": [
    "student: StudentData = {'name': 'Paul', 'grades': [97, 84, 88]}"
   ]
  },
  {
   "cell_type": "markdown",
   "id": "e0505fd5-42c5-4f7f-b903-98acd4eda97e",
   "metadata": {},
   "source": [
    "* `**student` in the following call expands `student` dictionary’s key–value pairs into the keyword arguments\n",
    "> `name='Paul', grades=[97, 84, 88]`\n",
    "* Function receives them in the `kwargs` parameter"
   ]
  },
  {
   "cell_type": "code",
   "execution_count": null,
   "id": "472b1f11-d998-4a0d-974b-0e4fd471a2c4",
   "metadata": {},
   "outputs": [],
   "source": [
    "name, average = calculate_gpa(**student)"
   ]
  },
  {
   "cell_type": "code",
   "execution_count": null,
   "id": "3de5b15b-d2fc-42b2-803d-6c55d642be14",
   "metadata": {},
   "outputs": [],
   "source": [
    "print(f\"{name}'s average is {average:.2f}\")"
   ]
  },
  {
   "cell_type": "markdown",
   "id": "4c53809c-41da-4de1-988e-33120f4efa05",
   "metadata": {},
   "source": [
    "## Calling `calculate_gpa` with Keyword Arguments"
   ]
  },
  {
   "cell_type": "code",
   "execution_count": null,
   "id": "16f986a5-c718-4c41-8825-f9c9a38c4e78",
   "metadata": {},
   "outputs": [],
   "source": [
    "name, average = calculate_gpa(name='Paul', grades=[97, 84, 88])"
   ]
  },
  {
   "cell_type": "code",
   "execution_count": null,
   "id": "c02b7957-53ac-465f-9cbc-5e2dcabb6e55",
   "metadata": {},
   "outputs": [],
   "source": [
    "print(f\"{name}'s average is {average:.2f}\")"
   ]
  },
  {
   "cell_type": "markdown",
   "id": "b2c00c3b-2b21-41e2-9992-87341bdeeb86",
   "metadata": {},
   "source": [
    "## Verifying Types Via Static Code Analysis with `mypy`\n",
    "* Static code analysis tools like `pyright` (https://github.com/microsoft/pyright) and `mypy` (https://mypy-lang.org/) can check type hints to ensure you’re using types correctly in your code\n",
    "* To demonstrate this with `StudentData`, we created the following `TypedDictTest.py` in which `student`'s argument types are incorrect"
   ]
  },
  {
   "cell_type": "markdown",
   "id": "6f97a5b8-e23c-4546-8d08-218195b5e3d4",
   "metadata": {},
   "source": [
    "```python\n",
    "from typing import TypedDict\n",
    "\n",
    "class StudentData(TypedDict):\n",
    "    name: str # name is a string\n",
    "    grades: list[int] # grades is a list of ints\n",
    "\n",
    "student: StudentData = {'name': 100, 'grades': ['A', 'B+', 'A-']}\n",
    "```"
   ]
  },
  {
   "cell_type": "code",
   "execution_count": null,
   "id": "aa91eeda-9d4b-4e32-9873-2bf3a0df0d50",
   "metadata": {
    "scrolled": true
   },
   "outputs": [],
   "source": [
    "!mypy TypedDictTest.py"
   ]
  },
  {
   "cell_type": "code",
   "execution_count": null,
   "id": "ef42f681-90d4-49f0-bbba-9b212c82d92e",
   "metadata": {},
   "outputs": [],
   "source": [
    "student: StudentData = {'name': 100, 'grades': ['A', 'B+', 'A-']}"
   ]
  },
  {
   "cell_type": "code",
   "execution_count": null,
   "id": "3e4c1221-a656-408f-b2ca-6f602f28983b",
   "metadata": {
    "scrolled": true
   },
   "outputs": [],
   "source": [
    "name, average = calculate_gpa(**student)"
   ]
  },
  {
   "cell_type": "markdown",
   "id": "a54156cf-791f-4a36-9890-3585ede6da43",
   "metadata": {},
   "source": [
    "---"
   ]
  },
  {
   "attachments": {},
   "cell_type": "markdown",
   "id": "c66c4fef-5346-4b3a-92de-f4e18fe42ca1",
   "metadata": {},
   "source": [
    "# Type Union Operator for Type Hints \n",
    "> **Python 3.10**, Section 4.2  \n",
    "> PEP 604, New Type Union Operator https://peps.python.org/pep-0604/\n",
    "\n",
    "* Enables the syntax `X | Y` in type hints to say that a type can be either `X` or `Y`\n",
    "* `square` function with type hints for parameter `number` and the function’s return type\n",
    "    * function receives an `int` or `float` and returns an `int` or `float`\n",
    "```python\n",
    "def square(number: int | float) -> int | float:\n",
    "    \"\"\"Returns the square of number.\"\"\"\n",
    "    return number ** 2\n",
    "```"
   ]
  },
  {
   "cell_type": "markdown",
   "id": "a480ea83-734d-43bb-99ff-1ff4c35b44bd",
   "metadata": {},
   "source": [
    "---"
   ]
  },
  {
   "cell_type": "markdown",
   "id": "01f5f62a-a5d4-4a53-8790-9c8e0dc2609e",
   "metadata": {},
   "source": [
    "# Built-in Collection Types in Type Hints\n",
    "> **Python 3.9**, Section 10.13  \n",
    "> PEP 585, Type Hinting Generics In Standard Collections  \n",
    "https://peps.python.org/pep-0585/\n",
    "\n",
    "* Type hints can use built-in collection types such as `list` and `dict` rather than importing the corresponding types (e.g., `List` and `Dict`) from the `typing` module\n",
    "* Our Card data class currently declares the faces and suits lists as\n",
    "\n",
    "> ```python\n",
    "> faces: ClassVar[List[str]]\n",
    "> suits: ClassVar[List[str]]\n",
    "> ```\n",
    "\n",
    "* Can now write these as \n",
    "\n",
    "> ```python\n",
    "> faces: ClassVar[list[str]]\n",
    "> suits: ClassVar[list[str]]\n",
    "> ```"
   ]
  },
  {
   "cell_type": "markdown",
   "id": "2a916530-fcaf-45fd-ad1f-171fce75c750",
   "metadata": {},
   "source": [
    "---"
   ]
  },
  {
   "cell_type": "markdown",
   "id": "e071b6af-643f-4ea8-91cb-6d48ea043f3f",
   "metadata": {},
   "source": [
    "# `@override` Decorator for Overridden Methods in Subclasses\n",
    "> **Python 3.12, Chapter 10** \n",
    "> PEP 698: Override Decorator for Static Typing https://peps.python.org/pep-0698/\r",
    "* **Always declare overridden methods with `@override` to help static code analysis tools and IDEs ensure you define overridden method names and parameter lists correctly**\n",
    "* Place `@override` decorator before an overridden method definition to indicate that the subclass method overrides a base-class method with same name and parameter list"
   ]
  },
  {
   "cell_type": "markdown",
   "id": "88ce093a-3a65-4df0-a6fe-f7a5706d81c4",
   "metadata": {},
   "source": [
    "> ```python\n",
    "> @override\n",
    "> def earnings(self):\n",
    ">     \"\"\"Calculate earnings.\"\"\"   \n",
    ">     return super().earnings() + self.base_salary\n",
    "> ```"
   ]
  },
  {
   "cell_type": "markdown",
   "id": "3e62e835-8261-4d03-b373-155543499af0",
   "metadata": {},
   "source": [
    "* Can then use static code analysis tools like `pyright` (https://github.com/microsoft/pyright) and `mypy` (https://mypy-lang.org/) to check for common method-override errors:\n",
    "    * misspelling the subclass method name or \n",
    "    * specifying a different number of parameters from the base-class method."
   ]
  },
  {
   "cell_type": "markdown",
   "id": "d9f01122-8b65-42a8-b058-ba8244394615",
   "metadata": {},
   "source": [
    "## Checking for Bad Overrides―Misspelled Name\n",
    "* In `salariedcommissionemployee2.py`, accidentally misspelled `SalariedCommissionEmployee`’s `earnings` method as `earning`\n",
    "* Static analysis with `pyright` for Python 3.12"
   ]
  },
  {
   "cell_type": "code",
   "execution_count": null,
   "id": "65ff9b43-c8fd-47dc-9dc0-182d26fa21be",
   "metadata": {},
   "outputs": [],
   "source": [
    "!pyright --pythonversion 3.12 salariedcommissionemployee2.py "
   ]
  },
  {
   "cell_type": "markdown",
   "id": "e9f5d3d7-0927-456c-9951-abe0e42db6c2",
   "metadata": {},
   "source": [
    "* Without `@override` and static code analysis, `earning` would be an entirely different method that would not be called if you invoke earnings on a `SalariedCommissionEmployee` object"
   ]
  },
  {
   "cell_type": "markdown",
   "id": "94433d0f-5f3d-4241-9914-4a7ab6762a0e",
   "metadata": {},
   "source": [
    "## Checking for Bad Overrides―Wrong Number of Parameters\n",
    "* Creates an unintentional overload of base-class method \n",
    "* Calling on subclass object using base-class method's expected signature invokes base class’s version \n",
    "    * Leads to subtle logic errors\n",
    "* Static analysis can compare method’s signature with base-class method signatures\n",
    "    * If no exact match, tool issues an error\n",
    "* `salariedcommissionemployee3.py` defines `earnings` with an extra parameter "
   ]
  },
  {
   "cell_type": "code",
   "execution_count": null,
   "id": "d3f1e1a5-3a3b-4a5d-97cb-dec4940b731b",
   "metadata": {},
   "outputs": [],
   "source": [
    "!pyright --pythonversion 3.12 salariedcommissionemployee3.py "
   ]
  },
  {
   "cell_type": "markdown",
   "id": "223f1e07-2375-4cd1-9eee-5f9fe5c2b7f1",
   "metadata": {},
   "source": [
    "---"
   ]
  },
  {
   "cell_type": "markdown",
   "id": "fed7b90c-90ef-4d33-bf9c-2a9520c81360",
   "metadata": {
    "editable": true,
    "slideshow": {
     "slide_type": ""
    },
    "tags": []
   },
   "source": [
    "&copy; 2024 by Pearson Education, Inc. All Rights Reserved. The content in this notebook will be incorporated as new features into the Second Editions our professional book [**Python for Programmers**](https://amzn.to/2VvdnxE) and our textbook [**Intro Python for Computer Science and Data Science**](https://amzn.to/2YU0QTJ)."
   ]
  }
 ],
 "metadata": {
  "kernelspec": {
   "display_name": "Python 3 (ipykernel)",
   "language": "python",
   "name": "python3"
  },
  "language_info": {
   "codemirror_mode": {
    "name": "ipython",
    "version": 3
   },
   "file_extension": ".py",
   "mimetype": "text/x-python",
   "name": "python",
   "nbconvert_exporter": "python",
   "pygments_lexer": "ipython3",
   "version": "3.12.2"
  }
 },
 "nbformat": 4,
 "nbformat_minor": 5
}
