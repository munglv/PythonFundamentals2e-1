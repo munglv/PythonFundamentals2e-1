{
 "cells": [
  {
   "cell_type": "markdown",
   "id": "72c97020-2435-4da4-b947-076908521f14",
   "metadata": {
    "editable": true,
    "slideshow": {
     "slide_type": ""
    },
    "tags": []
   },
   "source": [
    "&copy; 2024 by Pearson Education, Inc. All Rights Reserved. The content in this notebook will be incorporated as new features into the Second Editions our professional book [**Python for Programmers**](https://amzn.to/2VvdnxE) and our textbook [**Intro Python for Computer Science and Data Science**](https://amzn.to/2YU0QTJ)."
   ]
  },
  {
   "cell_type": "code",
   "execution_count": null,
   "id": "866637ef-40f2-4979-8d0f-82ad21a3f9ff",
   "metadata": {
    "editable": true,
    "jupyter": {
     "source_hidden": true
    },
    "slideshow": {
     "slide_type": ""
    },
    "tags": []
   },
   "outputs": [],
   "source": [
    "%%html\n",
    "<!-- CSS settings for styling notbook's headings and horizontal lines -->\n",
    "<style>\n",
    "    h1 {color:#03A}\n",
    "    h2 {color:purple}\n",
    "    h3 {color:#0099ff}\n",
    "    hr {    \n",
    "        border: 0;\n",
    "        height: 3px;\n",
    "        background: #333;\n",
    "        background-image: linear-gradient(to right, #ccc, black, #ccc);\n",
    "    }\n",
    "</style>"
   ]
  },
  {
   "attachments": {},
   "cell_type": "markdown",
   "id": "cd76cb71-19e9-43a1-94ee-b613930f1fd5",
   "metadata": {
    "slideshow": {
     "slide_type": "slide"
    }
   },
   "source": [
    "# What's New: Lesson 5, Lists and Tuples\n",
    "<div style=\"float: left; padding-right:10px;text-align:center\"><a href=\"https://learning.oreilly.com/videos/python-fundamentals/9780135917411\"><img alt=\"Python Fundamentals LiveLessons cover\" src=\"../images/PythonFundamentalsLiveLessons.jpg\" width=\"200\" border=\"1\"/></a></br>50+ hours of in-depth videos</div>\n",
    "<div style=\"float: left; padding-right:10px;text-align:center\"><a href=\"https://learning.oreilly.com/library/view/intro-to-python/9780135404799/\"><img alt=\"Intro to Python for Computer Science and Data Science: Learning to Program with AI, Big Data and the Cloud\" src=\"../images/IntroToPythonCover.png\" width=\"195\" border=\"1\"></a><br/><a href=\"https://amzn.to/2LiDCmt\">Buy on Amazon</a></div></div>\n",
    "<div style=\"float: left; padding-right:10px;text-align:center\"><a href=\"https://learning.oreilly.com/library/view/python-for-programmers/9780135231364\"><img alt=\"Python for Programmers cover\" src=\"../images/PyFPCover.png\" width=\"184\" border=\"1\"/></a><br/><a href=\"https://amzn.to/2VvdnxE\">Buy on Amazon</a></div>"
   ]
  },
  {
   "cell_type": "markdown",
   "id": "d20d9dc3-acba-47be-be9f-52087d976431",
   "metadata": {},
   "source": [
    "---"
   ]
  },
  {
   "cell_type": "markdown",
   "id": "07b6cc7d-a4eb-4b4e-b162-9874e74e90cd",
   "metadata": {},
   "source": [
    "# In This Segment\n",
    "## Python 3.12\n",
    "* Comprehension Inlining for Better Performance\n",
    "## Python 3.11\n",
    "* Starred Unpacking Expressions in `for` Statements\n",
    "## Python 3.10\n",
    "* Optional Length-Checking for `zip`\n",
    "## Python 3.8\n",
    "* Self-Documenting f-strings"
   ]
  },
  {
   "cell_type": "markdown",
   "id": "0f377717-c56d-4de5-a61c-6ff205f9c6fc",
   "metadata": {},
   "source": [
    "---"
   ]
  },
  {
   "cell_type": "markdown",
   "id": "389df71a-18d7-43c0-bd06-5843dcecc1e6",
   "metadata": {},
   "source": [
    "# Self-Documenting f-strings \n",
    "> **Python 3.8**, Section 5.4  \n",
    "> Self-Documenting f-strings, documented in bug report https://github.com/python/cpython/issues/80998\n",
    "\n",
    "* Update to an existing example\n",
    "* Can swap two variables’ values using sequence packing and unpacking"
   ]
  },
  {
   "cell_type": "code",
   "execution_count": null,
   "id": "e24f02f2-22b9-4722-8cc7-453e99657c8b",
   "metadata": {},
   "outputs": [],
   "source": [
    "number1 = 99"
   ]
  },
  {
   "cell_type": "code",
   "execution_count": null,
   "id": "b251c815-86dc-4b2a-990f-d7dc7159cfc0",
   "metadata": {},
   "outputs": [],
   "source": [
    "number2 = 22"
   ]
  },
  {
   "cell_type": "code",
   "execution_count": null,
   "id": "a5658e1c-e567-450a-ac9e-fc4e13042df6",
   "metadata": {},
   "outputs": [],
   "source": [
    "number1, number2 = (number2, number1)"
   ]
  },
  {
   "cell_type": "code",
   "execution_count": null,
   "id": "e4bddf33-56b5-46d8-9fbe-81ff07ee3ae9",
   "metadata": {},
   "outputs": [],
   "source": [
    "print(f'number1={number1}; number2={number2}')"
   ]
  },
  {
   "cell_type": "markdown",
   "id": "2aea5eb9-3ad7-4df7-911e-ac5b09bccba5",
   "metadata": {},
   "source": [
    "* For cases in which you display a variable’s name and value, as above, can use self-documenting f-strings\n",
    "* When Python encounters `=` to the right of a variable name in a placeholder, it inserts into the string the variable name, and = and the value"
   ]
  },
  {
   "cell_type": "code",
   "execution_count": null,
   "id": "7ab07ca5-93f4-4a27-ac9c-eda310fa44ed",
   "metadata": {},
   "outputs": [],
   "source": [
    "print(f'{number1=}; {number2=}')"
   ]
  },
  {
   "cell_type": "markdown",
   "id": "9e6421cd-4c22-4fa1-ae3c-badcdfbcf1df",
   "metadata": {},
   "source": [
    "---"
   ]
  },
  {
   "cell_type": "markdown",
   "id": "8774a8fd-4ec8-40b5-b676-e70a6db105fa",
   "metadata": {},
   "source": [
    "# Starred Unpacking Expressions in `for` Statements\n",
    "> **Python 3.11, end of Section 5.4**  \n",
    "> Listed as a bug fix at https://github.com/python/cpython/issues/90881\n",
    "\n",
    "* Starred unpacking expressions also can be used in `for` statements\n",
    "* As loop iterates through `data`, it upacks each tuple \n",
    "    * `first` refers to the current tuple’s first element\n",
    "    * `the_rest` refers to a list of the current tuple’s remaining elements"
   ]
  },
  {
   "cell_type": "code",
   "execution_count": null,
   "id": "1c783d0a-18c0-4f01-b4ef-28787b460d9d",
   "metadata": {},
   "outputs": [],
   "source": [
    "data = [\n",
    "    (1, 2, 3, 4),\n",
    "    (5, 6),\n",
    "    (7, 8, 9)\n",
    "]"
   ]
  },
  {
   "cell_type": "code",
   "execution_count": null,
   "id": "5b34e8d6-37a4-4b4a-8b36-ce1fa949d59e",
   "metadata": {},
   "outputs": [],
   "source": [
    "for first, *the_rest in data:\n",
    "    print(f\"first: {first}, the_rest: {the_rest}\")"
   ]
  },
  {
   "cell_type": "markdown",
   "id": "2dddb792-6170-4e1a-83a1-9db72add889d",
   "metadata": {},
   "source": [
    "---"
   ]
  },
  {
   "cell_type": "markdown",
   "id": "28269056-e3c8-4269-987d-1efbb0f466f0",
   "metadata": {},
   "source": [
    "# Comprehension Inlining for Better Performance\n",
    "> **Python 3.12, Section 5.12 in the comprehensions discussion**\n",
    "> PEP 709—Inlined comprehensions. https://peps.python.org/pep-0709/\n",
    " \n",
    "* Before Python 3.12, for each comprehension, the interpreter\n",
    "    * transformed it into a function \n",
    "    * called that function to perform task\n",
    "* Increased execution-time overhead\n",
    "* Interpreter now **inlines** each comprehension's logic where it appears in the code\n",
    "* **Eliminates overhead** of creating and calling a function, increasing performance"
   ]
  },
  {
   "cell_type": "markdown",
   "id": "7017110c-503a-4ced-b80a-5873b4430287",
   "metadata": {},
   "source": [
    "---"
   ]
  },
  {
   "cell_type": "markdown",
   "id": "f6026e6b-6d59-4e40-ab75-354a228089d3",
   "metadata": {},
   "source": [
    "# Optional Length-Checking for `zip`\r",
    "> **Python 3.10**, Section 5.15  \n",
    "> PEP 618, Add Optional Length-Checking To `zip`:  \n",
    "> https://peps.python.org/pep-0618/\n",
    "\n",
    "* Number of tuples `zip` produces is limited by its shortest iterable argument"
   ]
  },
  {
   "cell_type": "code",
   "execution_count": null,
   "id": "fc728d66-f0f0-464f-8130-7178e06048c1",
   "metadata": {},
   "outputs": [],
   "source": [
    "names = ['Bob', 'Sue', 'Amanda', 'Paul']"
   ]
  },
  {
   "cell_type": "code",
   "execution_count": null,
   "id": "cab3446b-4490-440c-b90c-4d420207d662",
   "metadata": {},
   "outputs": [],
   "source": [
    "grade_point_averages = [3.5, 4.0, 3.75]"
   ]
  },
  {
   "cell_type": "code",
   "execution_count": null,
   "id": "3a53a31b-1b95-475b-a766-cd4cb7ce4598",
   "metadata": {},
   "outputs": [],
   "source": [
    "for name, gpa in zip(names, grade_point_averages):\n",
    "    print(f'{name=}; {gpa=}')"
   ]
  },
  {
   "cell_type": "markdown",
   "id": "b678fa4f-21b8-4b62-85fc-abb75005daf8",
   "metadata": {},
   "source": [
    "## Requiring Iterables of the Same Length"
   ]
  },
  {
   "cell_type": "markdown",
   "id": "c0d9281d-dc67-4a8c-b3ae-1c34244e9700",
   "metadata": {},
   "source": [
    "* Sometimes `zip` arguments of different lengths should be a logic error\n",
    "* If so, pass `strict=True` as `zip`’s last argument\n",
    "* `ValueError` occurs if arguments do not have same length"
   ]
  },
  {
   "cell_type": "code",
   "execution_count": null,
   "id": "5c6098e5-2c01-48e3-b64b-e79f129af5e3",
   "metadata": {},
   "outputs": [],
   "source": [
    "for name, gpa in zip(names, grade_point_averages, strict=True):\n",
    "    print(f'{name=}; {gpa=}')"
   ]
  },
  {
   "cell_type": "markdown",
   "id": "e2eaa005-81dc-4a13-af86-c74fefeb897f",
   "metadata": {},
   "source": [
    "---"
   ]
  },
  {
   "cell_type": "markdown",
   "id": "821a7664-89d1-4d87-a06e-980b7079ba88",
   "metadata": {
    "editable": true,
    "slideshow": {
     "slide_type": ""
    },
    "tags": []
   },
   "source": [
    "&copy; 2024 by Pearson Education, Inc. All Rights Reserved. The content in this notebook will be incorporated as new features into the Second Editions our professional book [**Python for Programmers**](https://amzn.to/2VvdnxE) and our textbook [**Intro Python for Computer Science and Data Science**](https://amzn.to/2YU0QTJ)."
   ]
  }
 ],
 "metadata": {
  "kernelspec": {
   "display_name": "Python 3 (ipykernel)",
   "language": "python",
   "name": "python3"
  },
  "language_info": {
   "codemirror_mode": {
    "name": "ipython",
    "version": 3
   },
   "file_extension": ".py",
   "mimetype": "text/x-python",
   "name": "python",
   "nbconvert_exporter": "python",
   "pygments_lexer": "ipython3",
   "version": "3.12.2"
  }
 },
 "nbformat": 4,
 "nbformat_minor": 5
}
