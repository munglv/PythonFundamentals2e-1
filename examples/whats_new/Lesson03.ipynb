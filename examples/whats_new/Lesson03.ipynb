{
 "cells": [
  {
   "cell_type": "markdown",
   "id": "2dc2934b-6c56-4ec6-b2f0-eed5e39d99f6",
   "metadata": {
    "editable": true,
    "slideshow": {
     "slide_type": ""
    },
    "tags": []
   },
   "source": [
    "&copy; 2024 by Pearson Education, Inc. All Rights Reserved. The content in this notebook will be incorporated as new features into the Second Editions our professional book [**Python for Programmers**](https://amzn.to/2VvdnxE) and our textbook [**Intro Python for Computer Science and Data Science**](https://amzn.to/2YU0QTJ)."
   ]
  },
  {
   "cell_type": "code",
   "execution_count": null,
   "id": "866637ef-40f2-4979-8d0f-82ad21a3f9ff",
   "metadata": {
    "editable": true,
    "jupyter": {
     "source_hidden": true
    },
    "slideshow": {
     "slide_type": ""
    },
    "tags": []
   },
   "outputs": [],
   "source": [
    "%%html\n",
    "<!-- CSS settings for styling notbook's headings and horizontal lines -->\n",
    "<style>\n",
    "    h1 {color:#03A}\n",
    "    h2 {color:purple}\n",
    "    h3 {color:#0099ff}\n",
    "    hr {    \n",
    "        border: 0;\n",
    "        height: 3px;\n",
    "        background: #333;\n",
    "        background-image: linear-gradient(to right, #ccc, black, #ccc);\n",
    "    }\n",
    "</style>"
   ]
  },
  {
   "attachments": {},
   "cell_type": "markdown",
   "id": "7121480f-a5a7-4bb2-9a18-d31b7d29cf5f",
   "metadata": {
    "slideshow": {
     "slide_type": "slide"
    }
   },
   "source": [
    "# What's New: Lesson 3/Chapter 3\n",
    "<div style=\"float: left; padding-right:10px;text-align:center\"><a href=\"https://learning.oreilly.com/videos/python-fundamentals/9780135917411\"><img alt=\"Python Fundamentals LiveLessons cover\" src=\"../images/PythonFundamentalsLiveLessons.jpg\" width=\"200\" border=\"1\"/></a></br>50+ hours of in-depth videos</div>\n",
    "<div style=\"float: left; padding-right:10px;text-align:center\"><a href=\"https://learning.oreilly.com/library/view/intro-to-python/9780135404799/\"><img alt=\"Intro to Python for Computer Science and Data Science: Learning to Program with AI, Big Data and the Cloud\" src=\"../images/IntroToPythonCover.png\" width=\"195\" border=\"1\"></a><br/><a href=\"https://amzn.to/2LiDCmt\">Buy on Amazon</a></div></div>\n",
    "<div style=\"float: left; padding-right:10px;text-align:center\"><a href=\"https://learning.oreilly.com/library/view/python-for-programmers/9780135231364\"><img alt=\"Python for Programmers cover\" src=\"../images/PyFPCover.png\" width=\"184\" border=\"1\"/></a><br/><a href=\"https://amzn.to/2VvdnxE\">Buy on Amazon</a></div>"
   ]
  },
  {
   "cell_type": "markdown",
   "id": "dc231ef9-01f2-4bd8-9588-910fbd1ab9bb",
   "metadata": {},
   "source": [
    "---"
   ]
  },
  {
   "cell_type": "markdown",
   "id": "4e24064e-4726-4f28-b413-7a3125357c37",
   "metadata": {},
   "source": [
    "# In This Segment\n",
    "## Python 3.12\n",
    "* f-string improvement\n",
    "\n",
    "## Python 3.10\n",
    "* Multiple selection with `match`...`case`\n",
    "\n",
    "## Python 3.8\n",
    "* Assignment Expressions—The `:=` Walrus Operator \n",
    "* `statistics` Function `mode` Update and Function `multimode` "
   ]
  },
  {
   "cell_type": "markdown",
   "id": "199045b9-83d4-443c-ad81-df7b2e006f08",
   "metadata": {},
   "source": [
    "---"
   ]
  },
  {
   "cell_type": "markdown",
   "id": "080d300e-9fa5-41b7-a855-396ff2c3eb97",
   "metadata": {},
   "source": [
    "# Format Strings (f-strings)\n",
    "> **Python 3.12, Lesson 3 and higher**\n",
    "> [PEP 701, f-strings in the grammar](https://peps.python.org/pep-0701/)\n",
    "* f-string placeholders may now contain strings that use the same delimiter as the f-string:"
   ]
  },
  {
   "cell_type": "code",
   "execution_count": null,
   "id": "be08638c-7a15-41be-ae05-b5c536220e3a",
   "metadata": {},
   "outputs": [],
   "source": [
    "print(f'Face{'Frequency':>13}')"
   ]
  },
  {
   "cell_type": "markdown",
   "id": "b73b827a-1319-4d35-877c-0faaa6c63311",
   "metadata": {},
   "source": [
    "* Interpreter recognizes quotes in placeholder are for string literal being formatted, not delimiters for the f-string\n",
    "* `SyntaxError` previously, so we would have to write as"
   ]
  },
  {
   "cell_type": "code",
   "execution_count": null,
   "id": "e2170056-87cb-40d3-85a1-20cd08ea31ca",
   "metadata": {},
   "outputs": [],
   "source": [
    "print(f'Face{\"Frequency\":>13}')"
   ]
  },
  {
   "cell_type": "markdown",
   "id": "8394b8c7-dba4-4f2a-af11-73fe66b5454d",
   "metadata": {},
   "source": [
    "---"
   ]
  },
  {
   "cell_type": "markdown",
   "id": "3692d071-e0a2-4da6-957a-f7686364d24f",
   "metadata": {},
   "source": [
    "# Multiple Selection with the `match`...`case` Statement\n",
    "> **Python 3.10, Lesson 3**  \n",
    "> * PEP 634—Structural Pattern Matching: Specification  \n",
    "> https://peps.python.org/pep-0634/  \n",
    "> * PEP 635—Structural Pattern Matching: Motivation and Rationale  \n",
    "https://peps.python.org/pep-0635/  \n",
    "> * PEP 636—Structural Pattern Matching: Tutorial  \n",
    "https://peps.python.org/pep-0636/\n",
    "\n",
    "* Similar to but more powerful than `switch` and similar in many other languages\n",
    "* Expression after `match` is the **subject expression**\n",
    "* `match`...`case` compares subject expression’s value to each `case`’s value\n",
    "* First matching `case`’s statements execute, then `match` statement terminates"
   ]
  },
  {
   "cell_type": "code",
   "execution_count": null,
   "id": "e551e8d2-92da-44c6-88bc-22f35690c885",
   "metadata": {},
   "outputs": [],
   "source": [
    "grade = 'F'"
   ]
  },
  {
   "cell_type": "code",
   "execution_count": null,
   "id": "6c1545e4-2933-4c4f-bbb3-17b1c714c59c",
   "metadata": {},
   "outputs": [],
   "source": [
    "match grade:\n",
    "    case 'A':\n",
    "        print('grade is A')\n",
    "    case 'B':\n",
    "        print('grade is B')\n",
    "    case 'C':\n",
    "        print('grade is C')\n",
    "    case 'D':\n",
    "        print('grade is D')\n",
    "    case _:\n",
    "        print('grade is F')"
   ]
  },
  {
   "cell_type": "markdown",
   "id": "3a8bef6a-279b-4383-bd6e-1a7d35658e37",
   "metadata": {},
   "source": [
    "## Irrefutable `case` Block\n",
    "* `case _:` \n",
    "    * Python’s equivalent of `default` case in other programming languages\n",
    "    * Formally called an **irrefutable `case` block** \n",
    "    * Always matches subject expression if no other `case`s execute\n",
    "    * Must be the last `case`"
   ]
  },
  {
   "cell_type": "markdown",
   "id": "3d5a6aaa-20f6-42c9-b733-428290054be7",
   "metadata": {},
   "source": [
    "---"
   ]
  },
  {
   "cell_type": "markdown",
   "id": "20f92e16-5c46-4102-9c5c-bed27954884a",
   "metadata": {},
   "source": [
    "# Assignment Expressions—The `:=` Walrus Operator \n",
    "> **Python 3.8**, Lesson 3  \n",
    "> PEP 572, Assignment Expressions: https://peps.python.org/pep-0572/\n",
    "\n",
    "* Named “Walrus operator” because it resembles the eyes and tusks of a walrus\n",
    "* For cases in which you’d store a value in a variable, then use that variable in a control statement’s condition and possibly its body"
   ]
  },
  {
   "cell_type": "code",
   "execution_count": null,
   "id": "ae3de0fc-fbc3-487a-8135-00eb34732b31",
   "metadata": {},
   "outputs": [],
   "source": [
    "grade = int(input('Enter grade (0-100): '))"
   ]
  },
  {
   "cell_type": "code",
   "execution_count": null,
   "id": "9f1f503e-b09d-4b8e-94ee-041797eb0839",
   "metadata": {},
   "outputs": [],
   "source": [
    "if grade >= 60:\n",
    "    print(f'{grade} is a passing grade')\n",
    "else:\n",
    "    print(f'{grade} is a failing grade')"
   ]
  },
  {
   "cell_type": "markdown",
   "id": "76fd3381-043e-42cc-8ed6-db4d120d299d",
   "metadata": {},
   "source": [
    "* Can perform the assignment directly in condition via `:=` assignment expression\n",
    "* Variable to left of `:=` may be used throughout control statement"
   ]
  },
  {
   "cell_type": "code",
   "execution_count": null,
   "id": "627803cf-6c02-4053-9797-7cb503095b82",
   "metadata": {},
   "outputs": [],
   "source": [
    "if (grade := int(input('Enter grade (0-100): '))) >= 60:\n",
    "    print(f'{grade} is a passing grade')\n",
    "else:\n",
    "    print(f'{grade} is a failing grade')"
   ]
  },
  {
   "cell_type": "markdown",
   "id": "b32aa715-a9f9-4970-b238-4b2e6cb241a4",
   "metadata": {},
   "source": [
    "## Walrus Operator Use-Cases \n",
    "* Calling a regular expression function in an `if`, `if`…`else`, or `if`…`elif`…`else` condition, then using returned match object in the suite\n",
    "* In sentinel-controlled loop conditions, reading a value then immediately testing whether it was the sentinel and, if not, processing the value in the suite\n",
    "* In the `if` clause of a comprehension, initializing a variable, then using it in the expression that inserts a value in the list, dictionary or set"
   ]
  },
  {
   "cell_type": "markdown",
   "id": "96e9c209-30b2-4eae-8a02-1ee1a2894a9a",
   "metadata": {},
   "source": [
    "---"
   ]
  },
  {
   "cell_type": "markdown",
   "id": "72ab94e3-6690-42aa-afbb-7379a7aef879",
   "metadata": {},
   "source": [
    "# `statistics` Function `mode` Update and Function `multimode`\n",
    "> **Python 3.8**, Section 3.17  \n",
    "> `statistics`—Mathematical statistics functions:\n",
    "> * `mode`:  \n",
    "https://docs.python.org/3/library/statistics.html#statistics.mode\n",
    "> * `multimode`:  \n",
    "https://docs.python.org/3/library/statistics.html#statistics.multimode"
   ]
  },
  {
   "cell_type": "markdown",
   "id": "223aa2d3-a2a6-4be5-8916-4a89a6a879fb",
   "metadata": {},
   "source": [
    "## `mode` Function\n",
    "* A dataset can have two or more “most frequent” (mode) values\n",
    "* Such a dataset is **multi-modal**\n",
    "* `statistics.mode` used to raise a `StatisticsError` for multi-modal datasets\n",
    "* Now, it returns the first mode it finds\n",
    "* Following `mode` call returns 85 because it encounters the second 85 before the second 93"
   ]
  },
  {
   "cell_type": "code",
   "execution_count": null,
   "id": "7ffe26eb-c13f-440a-9d6a-01376e472ec1",
   "metadata": {},
   "outputs": [],
   "source": [
    "import statistics"
   ]
  },
  {
   "cell_type": "code",
   "execution_count": null,
   "id": "7c39e067-b61f-4ea8-b7ca-697cacd097bf",
   "metadata": {},
   "outputs": [],
   "source": [
    "grades2 = [85, 93, 45, 89, 85, 93]"
   ]
  },
  {
   "cell_type": "code",
   "execution_count": null,
   "id": "2cb9a851-6b14-4153-90a2-9eb5d10dad4d",
   "metadata": {},
   "outputs": [],
   "source": [
    "statistics.mode(grades2)"
   ]
  },
  {
   "cell_type": "markdown",
   "id": "13debd71-c187-45f1-bf1b-2b8406814f9b",
   "metadata": {},
   "source": [
    "## `multimode` Function\n",
    "* Returns a list of the most frequent values in a multi-modal dataset"
   ]
  },
  {
   "cell_type": "code",
   "execution_count": null,
   "id": "8ba59804-46e0-4826-8507-4fbfc2fa2f60",
   "metadata": {},
   "outputs": [],
   "source": [
    "statistics.multimode(grades2)"
   ]
  },
  {
   "cell_type": "markdown",
   "id": "73463f5d-7a18-4d88-8a13-5fda9495405c",
   "metadata": {},
   "source": [
    "---"
   ]
  },
  {
   "cell_type": "markdown",
   "id": "fbe1a7e1-c22a-4226-966a-6a39cadba433",
   "metadata": {
    "editable": true,
    "slideshow": {
     "slide_type": ""
    },
    "tags": []
   },
   "source": [
    "&copy; 2024 by Pearson Education, Inc. All Rights Reserved. The content in this notebook will be incorporated as new features into the Second Editions our professional book [**Python for Programmers**](https://amzn.to/2VvdnxE) and our textbook [**Intro Python for Computer Science and Data Science**](https://amzn.to/2YU0QTJ)."
   ]
  }
 ],
 "metadata": {
  "kernelspec": {
   "display_name": "Python 3 (ipykernel)",
   "language": "python",
   "name": "python3"
  },
  "language_info": {
   "codemirror_mode": {
    "name": "ipython",
    "version": 3
   },
   "file_extension": ".py",
   "mimetype": "text/x-python",
   "name": "python",
   "nbconvert_exporter": "python",
   "pygments_lexer": "ipython3",
   "version": "3.12.2"
  }
 },
 "nbformat": 4,
 "nbformat_minor": 5
}
