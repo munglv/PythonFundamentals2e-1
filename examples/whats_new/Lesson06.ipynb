{
 "cells": [
  {
   "cell_type": "markdown",
   "id": "5d8bafae-203c-4e18-a0fc-ec44f1310d63",
   "metadata": {
    "editable": true,
    "slideshow": {
     "slide_type": ""
    },
    "tags": []
   },
   "source": [
    "&copy; 2024 by Pearson Education, Inc. All Rights Reserved. The content in this notebook will be incorporated as new features into the Second Editions our professional book [**Python for Programmers**](https://amzn.to/2VvdnxE) and our textbook [**Intro Python for Computer Science and Data Science**](https://amzn.to/2YU0QTJ)."
   ]
  },
  {
   "cell_type": "code",
   "execution_count": null,
   "id": "866637ef-40f2-4979-8d0f-82ad21a3f9ff",
   "metadata": {
    "editable": true,
    "slideshow": {
     "slide_type": ""
    },
    "tags": []
   },
   "outputs": [],
   "source": [
    "%%html\n",
    "<!-- CSS settings for styling notbook's headings and horizontal lines -->\n",
    "<style>\n",
    "    h1 {color:#03A}\n",
    "    h2 {color:purple}\n",
    "    h3 {color:#0099ff}\n",
    "    hr {    \n",
    "        border: 0;\n",
    "        height: 3px;\n",
    "        background: #333;\n",
    "        background-image: linear-gradient(to right, #ccc, black, #ccc);\n",
    "    }\n",
    "</style>"
   ]
  },
  {
   "attachments": {},
   "cell_type": "markdown",
   "id": "61494be7-af84-4657-8006-52b21734a7f0",
   "metadata": {
    "slideshow": {
     "slide_type": "slide"
    }
   },
   "source": [
    "# What's New: Lesson 6, Dictionaries and Sets\n",
    "<div style=\"float: left; padding-right:10px;text-align:center\"><a href=\"https://learning.oreilly.com/videos/python-fundamentals/9780135917411\"><img alt=\"Python Fundamentals LiveLessons cover\" src=\"../images/PythonFundamentalsLiveLessons.jpg\" width=\"200\" border=\"1\"/></a></br>50+ hours of in-depth videos</div>\n",
    "<div style=\"float: left; padding-right:10px;text-align:center\"><a href=\"https://learning.oreilly.com/library/view/intro-to-python/9780135404799/\"><img alt=\"Intro to Python for Computer Science and Data Science: Learning to Program with AI, Big Data and the Cloud\" src=\"../images/IntroToPythonCover.png\" width=\"195\" border=\"1\"></a><br/><a href=\"https://amzn.to/2LiDCmt\">Buy on Amazon</a></div></div>\n",
    "<div style=\"float: left; padding-right:10px;text-align:center\"><a href=\"https://learning.oreilly.com/library/view/python-for-programmers/9780135231364\"><img alt=\"Python for Programmers cover\" src=\"../images/PyFPCover.png\" width=\"184\" border=\"1\"/></a><br/><a href=\"https://amzn.to/2VvdnxE\">Buy on Amazon</a></div>"
   ]
  },
  {
   "cell_type": "markdown",
   "id": "97ff25ae-1458-4305-812e-b55383122fc3",
   "metadata": {},
   "source": [
    "---"
   ]
  },
  {
   "cell_type": "markdown",
   "id": "6f0e46c9-713d-4969-839e-256769ded139",
   "metadata": {},
   "source": [
    "# In This Segment\n",
    "## Python 3.9\n",
    "* Dictionary Union Operators\n",
    "## Python 3.0\n",
    "* Keyword-Only Parameters and Arbitrary Keyword Arguments"
   ]
  },
  {
   "cell_type": "markdown",
   "id": "3437797c-7bfd-479e-a2d9-6f0bb954becc",
   "metadata": {},
   "source": [
    "---"
   ]
  },
  {
   "cell_type": "markdown",
   "id": "cdba9f7e-d7a9-4c97-9719-870cb3c72a7a",
   "metadata": {},
   "source": [
    "# Dictionary Union Operators\n",
    "> **Python 3.9**, Section 6.2.8  \n",
    "> PEP 584, Add Union Operators To `dict`:  \n",
    "https://peps.python.org/pep-0584/\n",
    "\n",
    "* Can merge dictionaries with the dictionary union operators `|` and `|=`"
   ]
  },
  {
   "cell_type": "code",
   "execution_count": null,
   "id": "c9caafba-bc8a-4cad-901e-d9df9d71cb08",
   "metadata": {},
   "outputs": [],
   "source": [
    "capitals1 = {'Belgium': 'Brussels',\n",
    "             'Haiti': 'Port-au-Prince'}"
   ]
  },
  {
   "cell_type": "code",
   "execution_count": null,
   "id": "06cfaf51-ef95-48f6-878f-a8f2c962c794",
   "metadata": {},
   "outputs": [],
   "source": [
    "capitals2 = {'Nepal': 'Kathmandu',\n",
    "             'Uruguay': 'Montevideo'}"
   ]
  },
  {
   "cell_type": "markdown",
   "id": "1faa9994-3aba-4437-b10b-4de75b4de817",
   "metadata": {},
   "source": [
    "* Following snippet merges `capitals1` and `capitals2` with `|`"
   ]
  },
  {
   "cell_type": "code",
   "execution_count": null,
   "id": "9189f5cb-b805-481f-b36c-79854cfb863e",
   "metadata": {},
   "outputs": [],
   "source": [
    "capitals1 | capitals2"
   ]
  },
  {
   "cell_type": "markdown",
   "id": "1df136ea-f538-4282-b812-5e76d30504b9",
   "metadata": {},
   "source": [
    "* Creates new dictionary with the results \n",
    "* Leaves original dictionaries unchanged\n",
    "* If both dictionaries have a key–value pair with same key, value for that key in\n",
    "merged dictionary will be value for that key in the right operand"
   ]
  },
  {
   "cell_type": "code",
   "execution_count": null,
   "id": "8626ceff-d85c-4397-bd8b-32e34ffe25f7",
   "metadata": {},
   "outputs": [],
   "source": [
    "capitals1"
   ]
  },
  {
   "cell_type": "code",
   "execution_count": null,
   "id": "fb61042d-0a11-4e07-a8a2-fba7b9992988",
   "metadata": {},
   "outputs": [],
   "source": [
    "capitals2"
   ]
  },
  {
   "cell_type": "markdown",
   "id": "1065411d-9e8c-47ca-a3da-7c5c1ffdce69",
   "metadata": {},
   "source": [
    "## Merging a Dictionary's Key-Value Pairs into another Dictionary \n",
    "* `|=` operator performs same task as `|` but modifies its left operand"
   ]
  },
  {
   "cell_type": "code",
   "execution_count": null,
   "id": "c0ebb0ff-240a-407b-acf4-e151ca73dc9e",
   "metadata": {},
   "outputs": [],
   "source": [
    "capitals1 |= capitals2"
   ]
  },
  {
   "cell_type": "code",
   "execution_count": null,
   "id": "c296c681-5328-40eb-95bf-65b32cae983c",
   "metadata": {},
   "outputs": [],
   "source": [
    "capitals1"
   ]
  },
  {
   "cell_type": "markdown",
   "id": "cd48cb38-6ce8-435a-b9ce-729548a02c2f",
   "metadata": {},
   "source": [
    "* Right operand remains unchanged"
   ]
  },
  {
   "cell_type": "code",
   "execution_count": null,
   "id": "cb9ef36a-4047-4728-8f38-ac4c2bb52f76",
   "metadata": {},
   "outputs": [],
   "source": [
    "capitals2"
   ]
  },
  {
   "cell_type": "markdown",
   "id": "80ff839d-28d1-49a7-ae35-d9de3e4f1ee9",
   "metadata": {},
   "source": [
    "---"
   ]
  },
  {
   "cell_type": "markdown",
   "id": "e3b5fc00-933e-40bc-9fdf-4ff559106d72",
   "metadata": {},
   "source": [
    "# Keyword-Only Parameters and Arbitrary Keyword Argument Lists\n",
    "> **Python 3.0**, Lesson 6  \n",
    "> Python Tutorial Section 4.8.2, Keyword Arguments  \n",
    "https://docs.python.org/3/tutorial/controlflow.html#keyword-arguments  \n",
    "> New section for Lesson 6 where we cover dictionaries \n"
   ]
  },
  {
   "cell_type": "markdown",
   "id": "a7f33f38-ae3b-46f3-a5cf-17bf7fbb1402",
   "metadata": {},
   "source": [
    "## Keyword-Only Parameters\n",
    "* Just as a function may specify positional-only parameters before a backslash (`\\`) in the parameter list, a function may specify keyword-only parameters by placing an asterisk (`*`) in the parameter list\n",
    "    * Subsequent arguments must be passed as keyword arguments "
   ]
  },
  {
   "cell_type": "markdown",
   "id": "cdb0b055-3b3e-49d4-95d6-c5fe2a369915",
   "metadata": {},
   "source": [
    "## Arbitrary Keyword Arguments\n",
    "* A function using parameter `*args` can receive any number of positional arguments\n",
    "    * Must place keyword arguments after positional arguments\n",
    "* If last parameter in a function’s parameter list is `**kwargs`, function may receive an arbitrary number of keyword arguments\n",
    "* Useful for\n",
    "    * Functions that receive any number of keyword arguments or\n",
    "    * Cases in which some keyword arguments are optional\n",
    "* Interpreter places extra keyword arguments in a dictionary and passes it to `kwargs`\n",
    "    * Short for “keyword arguments”\n",
    "    * You may use any valid identifier for this parameter"
   ]
  },
  {
   "cell_type": "markdown",
   "id": "5c14d52b-6d03-43e2-b5f9-e182d10429cc",
   "metadata": {},
   "source": [
    "## Function That Receives Required and Optional Keyword Arguments \n",
    "* Consider a `send_mail` function that simulates sending an email "
   ]
  },
  {
   "cell_type": "code",
   "execution_count": null,
   "id": "1718dfe9-658c-4744-93b3-e19db0241b13",
   "metadata": {},
   "outputs": [],
   "source": [
    "def send_email(*, sender, recipient, **kwargs):\n",
    "    print(f'sender: {sender}\\nrecipient: {recipient}')\n",
    "\n",
    "    # display the optional keyword arguments, if any\n",
    "    if kwargs:\n",
    "        for key, value in kwargs.items():\n",
    "            print(f'{key}: {value}')\n",
    "    else:\n",
    "        print('\\nNo additional keyword arguments.')"
   ]
  },
  {
   "cell_type": "markdown",
   "id": "067a05e1-5db5-401d-86a4-33ecfca080ab",
   "metadata": {},
   "source": [
    "* Most email systems require only the `sender`’s and `recipient`’s email addresses, so these are required\n",
    "* If `kwargs` contains data, `for` statement displays the additional key–value pairs\n",
    "* Call with just required arguments:"
   ]
  },
  {
   "cell_type": "code",
   "execution_count": null,
   "id": "f70f1fc2-5d40-4868-bf51-011e727c1a8a",
   "metadata": {},
   "outputs": [],
   "source": [
    "send_email(sender='test1@deitel.com', \n",
    "    recipient='test2@deitel.com')"
   ]
  },
  {
   "cell_type": "markdown",
   "id": "d75fbf85-ce00-433a-91df-255e381a02b6",
   "metadata": {},
   "source": [
    "Call with required arguments as well as arguments for the email’s `subject` and `body`:"
   ]
  },
  {
   "cell_type": "code",
   "execution_count": null,
   "id": "6287bd39-aa47-4887-9c5d-5e4d1697cd22",
   "metadata": {},
   "outputs": [],
   "source": [
    "send_email(sender='test1@deitel.com',\n",
    "    recipient='test2@deitel.com',\n",
    "    subject='Testing send_email',\n",
    "    body='Testing our email simulation function.')"
   ]
  },
  {
   "cell_type": "markdown",
   "id": "113b0650-1582-49ae-a38f-33796525531b",
   "metadata": {},
   "source": [
    "## Expanding an Existing Dictionary’s Key-Value Pairs As Keyword Arguments\n",
    "* Can pass a dictionary of key-value pairs to `send_mail`"
   ]
  },
  {
   "cell_type": "code",
   "execution_count": null,
   "id": "f768be78-de76-4160-8e60-29dc589db0f8",
   "metadata": {},
   "outputs": [],
   "source": [
    "parameters = {\n",
    "    'sender': 'test1@deitel.com',\n",
    "    'recipient': 'test2@deitel.com',\n",
    "    'subject': 'Testing send_email',\n",
    "    'body': 'Testing our email simulation function.',\n",
    "    'cc': 'test3@deitel.com',\n",
    "    'bcc': 'test4@deitel.com'\n",
    "}"
   ]
  },
  {
   "cell_type": "markdown",
   "id": "6ffcf65f-1784-4449-8ee2-afcd8f99e303",
   "metadata": {},
   "source": [
    "* Use `**` dictionary unpacking operator to extract the parameter dictionary’s key–value pairs and pass them as keyword arguments"
   ]
  },
  {
   "cell_type": "code",
   "execution_count": null,
   "id": "f77d4d09-8a49-435b-9444-92efa43af187",
   "metadata": {},
   "outputs": [],
   "source": [
    "send_email(**parameters)"
   ]
  },
  {
   "cell_type": "markdown",
   "id": "978c5fba-4efb-4ad7-abf4-e1a5123d0cff",
   "metadata": {},
   "source": [
    "---"
   ]
  },
  {
   "cell_type": "markdown",
   "id": "63b7cf4e-f201-4089-a918-b6da25e40e32",
   "metadata": {
    "editable": true,
    "slideshow": {
     "slide_type": ""
    },
    "tags": []
   },
   "source": [
    "&copy; 2024 by Pearson Education, Inc. All Rights Reserved. The content in this notebook will be incorporated as new features into the Second Editions our professional book [**Python for Programmers**](https://amzn.to/2VvdnxE) and our textbook [**Intro Python for Computer Science and Data Science**](https://amzn.to/2YU0QTJ)."
   ]
  }
 ],
 "metadata": {
  "kernelspec": {
   "display_name": "Python 3 (ipykernel)",
   "language": "python",
   "name": "python3"
  },
  "language_info": {
   "codemirror_mode": {
    "name": "ipython",
    "version": 3
   },
   "file_extension": ".py",
   "mimetype": "text/x-python",
   "name": "python",
   "nbconvert_exporter": "python",
   "pygments_lexer": "ipython3",
   "version": "3.12.2"
  }
 },
 "nbformat": 4,
 "nbformat_minor": 5
}
