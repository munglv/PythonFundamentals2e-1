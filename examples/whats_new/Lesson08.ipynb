{
 "cells": [
  {
   "cell_type": "markdown",
   "id": "ed2cf930-6ed4-44aa-b00d-b82c56f6ec80",
   "metadata": {
    "editable": true,
    "slideshow": {
     "slide_type": ""
    },
    "tags": []
   },
   "source": [
    "&copy; 2024 by Pearson Education, Inc. All Rights Reserved. The content in this notebook will be incorporated as new features into the Second Editions our professional book [**Python for Programmers**](https://amzn.to/2VvdnxE) and our textbook [**Intro Python for Computer Science and Data Science**](https://amzn.to/2YU0QTJ)."
   ]
  },
  {
   "cell_type": "code",
   "execution_count": null,
   "id": "866637ef-40f2-4979-8d0f-82ad21a3f9ff",
   "metadata": {
    "editable": true,
    "jupyter": {
     "source_hidden": true
    },
    "slideshow": {
     "slide_type": ""
    },
    "tags": []
   },
   "outputs": [],
   "source": [
    "%%html\n",
    "<!-- CSS settings for styling notbook's headings and horizontal lines -->\n",
    "<style>\n",
    "    h1 {color:#03A}\n",
    "    h2 {color:purple}\n",
    "    h3 {color:#0099ff}\n",
    "    hr {    \n",
    "        border: 0;\n",
    "        height: 3px;\n",
    "        background: #333;\n",
    "        background-image: linear-gradient(to right, #ccc, black, #ccc);\n",
    "    }\n",
    "</style>"
   ]
  },
  {
   "attachments": {},
   "cell_type": "markdown",
   "id": "81967dcc-db61-46f4-bcd8-5ae2619aae0c",
   "metadata": {
    "slideshow": {
     "slide_type": "slide"
    }
   },
   "source": [
    "# What's New: Lesson 8, Strings: A Deeper Look\n",
    "<div style=\"float: left; padding-right:10px;text-align:center\"><a href=\"https://learning.oreilly.com/videos/python-fundamentals/9780135917411\"><img alt=\"Python Fundamentals LiveLessons cover\" src=\"../images/PythonFundamentalsLiveLessons.jpg\" width=\"200\" border=\"1\"/></a></br>50+ hours of in-depth videos</div>\n",
    "<div style=\"float: left; padding-right:10px;text-align:center\"><a href=\"https://learning.oreilly.com/library/view/intro-to-python/9780135404799/\"><img alt=\"Intro to Python for Computer Science and Data Science: Learning to Program with AI, Big Data and the Cloud\" src=\"../images/IntroToPythonCover.png\" width=\"195\" border=\"1\"></a><br/><a href=\"https://amzn.to/2LiDCmt\">Buy on Amazon</a></div></div>\n",
    "<div style=\"float: left; padding-right:10px;text-align:center\"><a href=\"https://learning.oreilly.com/library/view/python-for-programmers/9780135231364\"><img alt=\"Python for Programmers cover\" src=\"../images/PyFPCover.png\" width=\"184\" border=\"1\"/></a><br/><a href=\"https://amzn.to/2VvdnxE\">Buy on Amazon</a></div>"
   ]
  },
  {
   "cell_type": "markdown",
   "id": "ccae1aa9-7962-4e1a-ad90-945da5ea2588",
   "metadata": {},
   "source": [
    "---"
   ]
  },
  {
   "cell_type": "markdown",
   "id": "9c592b4f-2921-4942-a99b-764d658fb7ef",
   "metadata": {},
   "source": [
    "# In This Segment\n",
    "## Python 3.9\n",
    "* Removing String Prefixes and Suffixes\n",
    "## Python 3.8\n",
    "* Named Unicode Characters in Regular Expressions"
   ]
  },
  {
   "cell_type": "markdown",
   "id": "2f4e9c73-0b01-4b6c-b9bc-b863ed2750c2",
   "metadata": {},
   "source": [
    "---"
   ]
  },
  {
   "cell_type": "markdown",
   "id": "91fa692b-8244-479b-a85d-b9a38757019c",
   "metadata": {},
   "source": [
    "# Removing String Prefixes and Suffixes\r",
    "> **Python 3.9**, Section 8.4+  \n",
    "> PEP 616—String methods to remove prefixes and suffixes https://peps.python.org/pep-0616/"
   ]
  },
  {
   "cell_type": "markdown",
   "id": "8723e3bc-d1d3-4874-b1be-ee54abe87654",
   "metadata": {},
   "source": [
    "* String methods `removeprefix` and `removesuffix` remove substrings from the beginning\r",
    "and end of a string, respectively"
   ]
  },
  {
   "cell_type": "code",
   "execution_count": null,
   "id": "8b207507-b353-4cbd-828d-e165976f0ee4",
   "metadata": {},
   "outputs": [],
   "source": [
    "s = '<<<$$$>>>'"
   ]
  },
  {
   "cell_type": "code",
   "execution_count": null,
   "id": "794bd649-1aba-4085-9a6c-2cc0ea4651bb",
   "metadata": {},
   "outputs": [],
   "source": [
    "s.removeprefix('<<<')"
   ]
  },
  {
   "cell_type": "code",
   "execution_count": null,
   "id": "4cb923a0-8ddc-46c5-b1d3-46703b7c1473",
   "metadata": {},
   "outputs": [],
   "source": [
    "s.removesuffix('>>>')"
   ]
  },
  {
   "cell_type": "code",
   "execution_count": null,
   "id": "1d1c527c-ca15-40c0-b2f5-cd22e124daf2",
   "metadata": {},
   "outputs": [],
   "source": [
    "s"
   ]
  },
  {
   "cell_type": "markdown",
   "id": "4c44d402-6ceb-4149-bd56-ff5dbf8a6c3e",
   "metadata": {},
   "source": [
    "---"
   ]
  },
  {
   "cell_type": "markdown",
   "id": "9d3dba82-c2d3-429b-b652-e4d645e26275",
   "metadata": {},
   "source": [
    "# Named Unicode Characters in Regular Expressions\n",
    "> **Python 3.8**, Section 8.12\n",
    "> `re`—Regular expression operations  \n",
    "https://docs.python.org/3/library/re.html\n",
    "\n",
    "* Can use `\\u` or `\\U` escape sequences to insert a Unicode character into string literals using four-digit or eight-digit hexadecimal code\n",
    "* Such escape sequences may not be used in regular-expression pattern strings\n",
    "* Can use `\\N{`_name_`}` escape sequence to insert a Unicode character with a specified name in a regular expression pattern\n",
    "    * Names at https://www.unicode.org/charts/charindex.html\n",
    "* Define string `sample_text` containing the Unicode character É\n",
    "    * LATIN CAPITAL LETTER E WITH ACUTE"
   ]
  },
  {
   "cell_type": "code",
   "execution_count": null,
   "id": "7e1cb1f9-bd75-48df-be7e-0d8bf1b721eb",
   "metadata": {},
   "outputs": [],
   "source": [
    "import re"
   ]
  },
  {
   "cell_type": "code",
   "execution_count": null,
   "id": "43c0790c-db99-48a0-88f7-e163b85d1d6b",
   "metadata": {},
   "outputs": [],
   "source": [
    "sample_text = 'string with É character'"
   ]
  },
  {
   "cell_type": "markdown",
   "id": "f8e9b3c1-5979-49d7-82fd-6e0266b9579f",
   "metadata": {},
   "source": [
    "* Use `\\N{`_name_`}` escape sequence to define regular expression that matches only É "
   ]
  },
  {
   "cell_type": "code",
   "execution_count": null,
   "id": "b2d1fa48-4d18-4b93-9096-8cafcd6f1b43",
   "metadata": {},
   "outputs": [],
   "source": [
    "regex_pattern = r'\\N{LATIN CAPITAL LETTER E WITH ACUTE}'"
   ]
  },
  {
   "cell_type": "code",
   "execution_count": null,
   "id": "0f75ee6b-7701-4086-9202-c4c61a115ee5",
   "metadata": {},
   "outputs": [],
   "source": [
    "match = re.search(regex_pattern, sample_text)"
   ]
  },
  {
   "cell_type": "code",
   "execution_count": null,
   "id": "54c65fa8-44e6-4f01-8ffd-d57bea3906c3",
   "metadata": {},
   "outputs": [],
   "source": [
    "match.group()"
   ]
  },
  {
   "cell_type": "markdown",
   "id": "7c8eae3b-7023-405b-ae92-d758ee33b2e4",
   "metadata": {},
   "source": [
    "---"
   ]
  },
  {
   "cell_type": "markdown",
   "id": "95394331-ba38-46d8-a0e9-717cc2ce940c",
   "metadata": {
    "editable": true,
    "slideshow": {
     "slide_type": ""
    },
    "tags": []
   },
   "source": [
    "&copy; 2024 by Pearson Education, Inc. All Rights Reserved. The content in this notebook will be incorporated as new features into the Second Editions our professional book [**Python for Programmers**](https://amzn.to/2VvdnxE) and our textbook [**Intro Python for Computer Science and Data Science**](https://amzn.to/2YU0QTJ)."
   ]
  }
 ],
 "metadata": {
  "kernelspec": {
   "display_name": "Python 3 (ipykernel)",
   "language": "python",
   "name": "python3"
  },
  "language_info": {
   "codemirror_mode": {
    "name": "ipython",
    "version": 3
   },
   "file_extension": ".py",
   "mimetype": "text/x-python",
   "name": "python",
   "nbconvert_exporter": "python",
   "pygments_lexer": "ipython3",
   "version": "3.12.2"
  }
 },
 "nbformat": 4,
 "nbformat_minor": 5
}
